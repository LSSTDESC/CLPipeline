{
 "cells": [
  {
   "cell_type": "markdown",
   "id": "95f62f2f-6385-4d1b-ac20-f8d7aee6730b",
   "metadata": {},
   "source": [
    "# TXPipe Tutorial\n",
    "\n",
    "## 1. Introduction\n",
    "\n",
    "**TXPipe** is the DESC pipeline to perform *3×2pt* measurements, and it has been extended to support cluster cosmology analyses.  \n",
    "It is built on top of **Ceci**, which organizes pipelines as sequences of smaller tasks called *stages*.  \n",
    "\n",
    "Each stage is defined as a `PipelineStage`, a Python class with:\n",
    "- **Inputs** and **outputs** (declared up front).\n",
    "- A **configuration dictionary** with options.\n",
    "- A **`run` method** where the actual computation happens.\n",
    "\n",
    "To run pipelines, we use two YAML configuration files:\n",
    "- **Pipeline config (`pipeline_config.yml`)**: defines which stages to run, input files, output directory, parallelization, etc.\n",
    "- **Stage config (`stage_config.yml`)**: defines the parameters for each stage.\n",
    "\n",
    "Let’s look at them step by step.\n"
   ]
  },
  {
   "cell_type": "code",
   "execution_count": 1,
   "id": "88c3d860-f5e8-4030-8024-c6fd6b7c5153",
   "metadata": {},
   "outputs": [
    {
     "name": "stderr",
     "output_type": "stream",
     "text": [
      "/global/cfs/projectdirs/lsst/groups/CL/cl_pipeline_project/conda_envs/txpipe_clp/lib/python3.10/site-packages/ceci/__init__.py:12: UserWarning: pkg_resources is deprecated as an API. See https://setuptools.pypa.io/en/latest/pkg_resources.html. The pkg_resources package is slated for removal as early as 2025-11-30. Refrain from using this package or pin to Setuptools<81.\n",
      "  from pkg_resources import DistributionNotFound\n"
     ]
    }
   ],
   "source": [
    "import sys\n",
    "from pprint import pprint\n",
    "import os\n",
    "import ceci\n",
    "txpipe_dir = \"/global/homes/e/edujb/TXPipe\"\n",
    "sys.path.append(txpipe_dir)\n",
    "import txpipe\n",
    "import h5py  \n",
    "import matplotlib.pyplot as plt  \n",
    "from pprint import pprint\n",
    "import yaml"
   ]
  },
  {
   "cell_type": "markdown",
   "id": "1fd07d45-ac44-437f-9c17-b365f7b1da86",
   "metadata": {},
   "source": [
    "## 2. Pipeline Configuration"
   ]
  },
  {
   "cell_type": "code",
   "execution_count": 2,
   "id": "9826c74d-25a6-4fc0-8f22-85a876605846",
   "metadata": {
    "scrolled": true
   },
   "outputs": [
    {
     "name": "stdout",
     "output_type": "stream",
     "text": [
      "{'config': './stage_config.yml',\n",
      " 'inputs': {'calibration_table': '/global/cfs/projectdirs/lsst/groups/CL/cl_pipeline_project/TXPipe_data/cosmodc2/20deg2/sample_cosmodc2_w10year_errors.dat',\n",
      "            'cluster_catalog': '/global/cfs/projectdirs/lsst/groups/CL/cl_pipeline_project/TXPipe_data/cosmodc2/20deg2/cluster_catalog.hdf5',\n",
      "            'fiducial_cosmology': '/global/cfs/projectdirs/lsst/groups/CL/cl_pipeline_project/TXPipe_data/cosmodc2/fiducial_cosmology.yml',\n",
      "            'shear_catalog': '/global/cfs/projectdirs/lsst/groups/CL/cl_pipeline_project/TXPipe_data/cosmodc2/20deg2/shear_catalog.hdf5',\n",
      "            'source_photoz_pdfs': '/global/cfs/projectdirs/lsst/groups/CL/cl_pipeline_project/TXPipe_data/cosmodc2/20deg2/photoz_pdfs.hdf5',\n",
      "            'spectroscopic_catalog': '/global/cfs/projectdirs/lsst/groups/CL/cl_pipeline_project/TXPipe_data/cosmodc2/20deg2/spectroscopic_catalog.hdf5'},\n",
      " 'launcher': {'interval': 0.5, 'name': 'mini'},\n",
      " 'log_dir': './logs',\n",
      " 'modules': 'txpipe rail.estimation.algos.bpz_lite\\n',\n",
      " 'output_dir': '/global/cfs/projectdirs/lsst/groups/CL/cl_pipeline_project/TXPipe_data/cosmodc2/outputs-20deg2-CL/',\n",
      " 'pipeline_log': './logs/log_20deg2.txt',\n",
      " 'python_paths': [],\n",
      " 'resume': True,\n",
      " 'site': {'image': 'ghcr.io/lsstdesc/txpipe-dev', 'name': 'cori-batch'},\n",
      " 'stages': [{'name': 'TXSourceSelectorMetadetect', 'nprocess': 1},\n",
      "            {'name': 'CLClusterBinningRedshiftRichness', 'nprocess': 1},\n",
      "            {'name': 'CLClusterShearCatalogs', 'nprocess': 1},\n",
      "            {'name': 'CLClusterEnsembleProfiles', 'nprocess': 1},\n",
      "            {'aliases': {'cluster_profiles': 'cluster_profiles'},\n",
      "             'name': 'CLClusterSACC',\n",
      "             'nprocess': 1}]}\n"
     ]
    }
   ],
   "source": [
    "config_yaml = yaml.safe_load(open(\"pipeline_config.yml\"))\n",
    "pprint(config_yaml)\n"
   ]
  },
  {
   "cell_type": "markdown",
   "id": "568b7b70-e098-4925-b6eb-9302687de900",
   "metadata": {},
   "source": [
    "This file contains **general pipeline settings**:\n",
    "- Where outputs are written.\n",
    "- Number of tasks for parallelization.\n",
    "- Which stages to run (e.g. `TXSourceSelectorMetadetect`, `BPZliteEstimator`, etc.).\n",
    "\n",
    "If one stage produces a file and another needs it, TXPipe automatically connects them.\n",
    "Let us take a look to the configuration file."
   ]
  },
  {
   "cell_type": "markdown",
   "id": "e4f3594d-ada5-416b-a24b-1a3da0f210b2",
   "metadata": {},
   "source": [
    "## 3. Stage Configuration\n",
    "\n",
    "In the stage configuration file, we have the individual configurations for each of the codes we are running."
   ]
  },
  {
   "cell_type": "code",
   "execution_count": 3,
   "id": "ce0faffd-e974-4e38-a09a-95d35efd52db",
   "metadata": {
    "scrolled": true
   },
   "outputs": [
    {
     "name": "stdout",
     "output_type": "stream",
     "text": [
      "{'BPZliteInformer': {'bands': 'riz',\n",
      "                     'columns_file': '/global/cfs/projectdirs/lsst/groups/CL/cl_pipeline_project/TXPipe/data/bpz_riz.columns',\n",
      "                     'data_path': '/global/cfs/projectdirs/lsst/groups/CL/cl_pipeline_project/TXPipe_data/example/rail-bpz-inputs',\n",
      "                     'gauss_kernel': 0.0,\n",
      "                     'hdf5_groupname': 'photometry',\n",
      "                     'inform_options': {'load_model': False,\n",
      "                                        'modelfile': 'BPZpriormodel.out',\n",
      "                                        'save_train': False},\n",
      "                     'madau_reddening': False,\n",
      "                     'mag_err_min': 0.005,\n",
      "                     'nzbins': 301,\n",
      "                     'p_min': 0.005,\n",
      "                     'prior_band': 'i',\n",
      "                     'prior_file': 'hdfn_gen',\n",
      "                     'ref_band': 'i',\n",
      "                     'spectra_file': 'CWWSB4.list',\n",
      "                     'zmax': 3.0,\n",
      "                     'zmin': 0.0,\n",
      "                     'zp_errors': [0.01, 0.01, 0.01]},\n",
      " 'CLClusterBinningRedshiftRichness': {'richedge': [5.0, 10.0, 20.0, 25.0, 50.0],\n",
      "                                      'zedge': [0.2, 0.4, 0.6, 0.8]},\n",
      " 'CLClusterEnsembleProfiles': {'coordinate_system': 'celestial',\n",
      "                               'delta_sigma_profile': True,\n",
      "                               'magnification_profile': False,\n",
      "                               'nbins': 10,\n",
      "                               'r_max': 5.0,\n",
      "                               'r_min': 0.2,\n",
      "                               'shear_profile': False},\n",
      " 'CLClusterSACC': {'area': 20.0, 'survey_name': 'cosmodc2-20deg2-CL'},\n",
      " 'CLClusterShearCatalogs': {'chunk_rows': 100000,\n",
      "                            'coordinate_system': 'celestial',\n",
      "                            'delta_z': 0.2,\n",
      "                            'max_radius': 5,\n",
      "                            'redshift_cut_criterion': 'zmode',\n",
      "                            'redshift_cut_criterion_pdf_fraction': 0.9,\n",
      "                            'redshift_weight_criterion': 'zmode',\n",
      "                            'subtract_mean_shear': False,\n",
      "                            'use_true_shear': True},\n",
      " 'FirecrownPipeline': {'cosmological_parameters': {'h0': {'sample': False,\n",
      "                                                          'values': 0.71},\n",
      "                                                   'n_s': {'sample': False,\n",
      "                                                           'values': 0.963},\n",
      "                                                   'omega_b': {'sample': False,\n",
      "                                                               'values': 0.0448},\n",
      "                                                   'omega_c': {'sample': True,\n",
      "                                                               'values': [0.1552,\n",
      "                                                                          0.2052,\n",
      "                                                                          0.3552]},\n",
      "                                                   'omega_k': {'sample': False,\n",
      "                                                               'values': 0.0},\n",
      "                                                   'sigma_8': {'sample': True,\n",
      "                                                               'values': [0.7,\n",
      "                                                                          0.8,\n",
      "                                                                          0.9]},\n",
      "                                                   'tau': {'sample': False,\n",
      "                                                           'values': 0.08},\n",
      "                                                   'w': {'sample': False,\n",
      "                                                         'values': -1.0},\n",
      "                                                   'wa': {'sample': False,\n",
      "                                                          'values': 0.0}},\n",
      "                       'emcee_nsteps': 10,\n",
      "                       'emcee_samples': 4000,\n",
      "                       'emcee_walkers': 20,\n",
      "                       'firecrown_parameters': {'mu_p0': {'sample': True,\n",
      "                                                          'values': [2.0,\n",
      "                                                                     3.0,\n",
      "                                                                     4.0]},\n",
      "                                                'mu_p1': {'sample': True,\n",
      "                                                          'values': [0.4,\n",
      "                                                                     0.8,\n",
      "                                                                     1.2]},\n",
      "                                                'mu_p2': {'sample': True,\n",
      "                                                          'values': [-0.6,\n",
      "                                                                     -0.3,\n",
      "                                                                     0.6]},\n",
      "                                                'sigma_p0': {'sample': True,\n",
      "                                                             'values': [0.02,\n",
      "                                                                        0.3,\n",
      "                                                                        0.6]},\n",
      "                                                'sigma_p1': {'sample': True,\n",
      "                                                             'values': [-0.1,\n",
      "                                                                        -0.03,\n",
      "                                                                        0.1]},\n",
      "                                                'sigma_p2': {'sample': True,\n",
      "                                                             'values': [-0.1,\n",
      "                                                                        0.06,\n",
      "                                                                        0.1]}},\n",
      "                       'hmf': 'despali16',\n",
      "                       'max_mass': 16.0,\n",
      "                       'max_z': 0.8,\n",
      "                       'min_mass': 13.0,\n",
      "                       'min_z': 0.2,\n",
      "                       'pivot_mass': 14.5,\n",
      "                       'pivot_z': 0.6,\n",
      "                       'sampler': 'emcee',\n",
      "                       'set_concentration': False,\n",
      "                       'survey_name': 'cosmodc2-20deg2-CL',\n",
      "                       'use_cluster_counts': True,\n",
      "                       'use_mean_deltasigma': False,\n",
      "                       'use_mean_log_mass': False},\n",
      " 'TJPCovPipeline': {'cosmo': 'set',\n",
      "                    'cov_type': ['ClusterCountsGaussian', 'ClusterCountsSSC'],\n",
      "                    'do_xi': False,\n",
      "                    'fsky': 0.3,\n",
      "                    'mor_parameters': {'halo_bias': 'Tinker10',\n",
      "                                       'm_pivot': 14.5,\n",
      "                                       'mass_def': '200c',\n",
      "                                       'mass_func': 'Despali16',\n",
      "                                       'max_halo_mass': '1.0e16',\n",
      "                                       'min_halo_mass': '1.0e13',\n",
      "                                       'mu_p0': 3.35,\n",
      "                                       'mu_p1': 0.968,\n",
      "                                       'mu_p2': 0.06,\n",
      "                                       'sigma_p0': 0.56,\n",
      "                                       'sigma_p1': 0.043,\n",
      "                                       'sigma_p2': -0.05,\n",
      "                                       'z_pivot': 0.6},\n",
      "                    'parameters': {'Omega_b': 0.0448,\n",
      "                                   'Omega_c': 0.22,\n",
      "                                   'h': 0.71,\n",
      "                                   'n_s': 0.963,\n",
      "                                   'sigma8': 0.8,\n",
      "                                   'transfer_function': 'boltzmann_camb',\n",
      "                                   'w0': -1,\n",
      "                                   'wa': 0},\n",
      "                    'photo-z': {'sigma_0': 0.005},\n",
      "                    'use_mpi': False},\n",
      " 'TXSourceSelectorMetadetect': {'T_cut': 0.5,\n",
      "                                'bands': 'riz',\n",
      "                                'chunk_rows': 100000,\n",
      "                                'delta_gamma': 0.02,\n",
      "                                'input_pz': False,\n",
      "                                'max_rows': 1000,\n",
      "                                's2n_cut': 10.0,\n",
      "                                'shear_prefix': '',\n",
      "                                'source_zbin_edges': [0.1, 3.0],\n",
      "                                'true_z': False},\n",
      " 'global': {'metacalibration': True}}\n"
     ]
    }
   ],
   "source": [
    "config_yaml = yaml.safe_load(open(\"stage_config.yml\"))\n",
    "pprint(config_yaml)\n"
   ]
  },
  {
   "cell_type": "markdown",
   "id": "97771c7a-f2be-42e4-a507-b52af50162a1",
   "metadata": {},
   "source": [
    "## 4. Running Pipelines"
   ]
  },
  {
   "cell_type": "markdown",
   "id": "0cb54dea-b81f-41af-95a8-e2696af1fb96",
   "metadata": {},
   "source": [
    "We can run pipelines in different ways:\n",
    "\n",
    "- **Terminal (recommended for real runs)**  \n",
    "  ```bash\n",
    "  ceci pipeline_config.yml\n"
   ]
  },
  {
   "cell_type": "markdown",
   "id": "e119d6dd-8056-419d-ba3d-7da3bfdc0f8b",
   "metadata": {},
   "source": [
    "- **Notebook (for dry runs / exploration)**\n",
    "Let’s try it here:"
   ]
  },
  {
   "cell_type": "code",
   "execution_count": 4,
   "id": "eae9bcee-dc7b-4589-8ec5-8c690c1f28a8",
   "metadata": {},
   "outputs": [
    {
     "name": "stdout",
     "output_type": "stream",
     "text": [
      "SES - yaml config file :  None\n",
      "<ceci.pipeline.MiniPipeline object at 0x7fa6c8178460>\n",
      "\n",
      "Executing TXSourceSelectorMetadetect\n",
      "Command is:\n",
      "srun -u -n 1 --cpus-per-task=1 --nodes 1 shifter --env OMP_NUM_THREADS=1  --image ghcr.io/lsstdesc/txpipe-dev  python3 -m txpipe TXSourceSelectorMetadetect   --shear_catalog=/global/cfs/projectdirs/lsst/groups/CL/cl_pipeline_project/TXPipe_data/cosmodc2/20deg2/shear_catalog.hdf5   --spectroscopic_catalog=/global/cfs/projectdirs/lsst/groups/CL/cl_pipeline_project/TXPipe_data/cosmodc2/20deg2/spectroscopic_catalog.hdf5   --config=./stage_config.yml   --shear_tomography_catalog=/global/cfs/projectdirs/lsst/groups/CL/cl_pipeline_project/TXPipe_data/cosmodc2/outputs-20deg2-CL//shear_tomography_catalog.hdf5   \n",
      "Output writing to ./logs/TXSourceSelectorMetadetect.out\n",
      "\n",
      "Job TXSourceSelectorMetadetect has failed with status 1\n"
     ]
    },
    {
     "name": "stderr",
     "output_type": "stream",
     "text": [
      "\n",
      "*************************************************\n",
      "Error running pipeline stage TXSourceSelectorMetadetect.\n",
      "Failed after 0.5 seconds.\n",
      "\n",
      "Standard output and error streams in ./logs/TXSourceSelectorMetadetect.out\n",
      "*************************************************\n"
     ]
    },
    {
     "data": {
      "text/plain": [
       "1"
      ]
     },
     "execution_count": 4,
     "metadata": {},
     "output_type": "execute_result"
    }
   ],
   "source": [
    "pipeline = ceci.Pipeline.read(\"pipeline_config.yml\")\n",
    "pprint(pipeline)\n",
    "\n",
    "pipeline.run()\n"
   ]
  },
  {
   "cell_type": "markdown",
   "id": "81f0c1ca-fd74-40d1-9dad-c09261a380f4",
   "metadata": {},
   "source": [
    "⚠️ Sometimes notebook runs fail (especially in parallel stages).  \n",
    "Best practice: run with `srun` or directly in the terminal.  \n",
    "In notebooks, it’s often easier to run **single stages** interactively.\n"
   ]
  },
  {
   "cell_type": "markdown",
   "id": "17ad7825-be0f-4b96-b04c-1cc3d0f0cfe1",
   "metadata": {},
   "source": [
    "Instead of the full pipeline, we can configure and run a single stage.  \n",
    "Here’s an example with `CLClusterBinningRedshiftRichness`.\n"
   ]
  },
  {
   "cell_type": "markdown",
   "id": "fad630d9-39fe-4c1d-9ece-ab37fe26a40e",
   "metadata": {},
   "source": [
    "## 5. Running a Stage Manually"
   ]
  },
  {
   "cell_type": "code",
   "execution_count": 5,
   "id": "31784b36-4014-4857-b2e8-e958dae85d9a",
   "metadata": {},
   "outputs": [],
   "source": [
    "outdir = \"/global/homes/e/edujb/CLPipeline/tutorials/txpipe_tutorial/example_output\"  # Changed path to indicate full sim\n",
    "cluster_catalog_nersc=\"/global/cfs/projectdirs/lsst/groups/CL/cl_pipeline_project/TXPipe_data/cosmodc2/20deg2/cluster_catalog.hdf5\"\n",
    "\n",
    "# Create output directory\n",
    "os.makedirs(outdir, exist_ok=True)\n",
    "\n",
    "# Configure for full simulation\n",
    "stage = txpipe.CLClusterBinningRedshiftRichness.make_stage(\n",
    "    zedge=[0.2, 0.4, 0.6, 0.8],\n",
    "    richedge= [5., 10., 20., 25., 50.],\n",
    "    cluster_catalog = cluster_catalog_nersc,\n",
    "    cluster_catalog_tomography = f\"{outdir}/cluster_catalog_tomography.hdf5\",\n",
    ")\n",
    "\n",
    "# # run the stage\n",
    "stage.run()\n",
    "\n",
    "# # move the stage outputs to their final locations\n",
    "stage.finalize()"
   ]
  },
  {
   "cell_type": "markdown",
   "id": "22408192-9f0e-4903-8708-8941858b0a87",
   "metadata": {},
   "source": [
    "## 6. CLClusterEnsembleProfiles Example\n",
    "\n",
    "Now let’s focus on a concrete stage to better understand how TXPipe stages work.  \n",
    "We will analyze **`CLClusterEnsembleProfiles`**, a stage responsible for taking the individual shear profiles of each cluster and combining them into a stacked profile using **CLMM**.\n",
    "\n",
    "If we look at the source code ([link](https://github.com/LSSTDESC/TXPipe/blob/master/txpipe/extensions/cluster_counts/make_ensemble_profile.py)), we find the following:\n",
    "\n",
    "\n",
    "```\n",
    "class CLClusterEnsembleProfiles(CLClusterShearCatalogs):\n",
    "    name = \"CLClusterEnsembleProfiles\"\n",
    "    inputs = [\n",
    "        #(\"cluster_catalog\", HDFFile),\n",
    "        (\"cluster_catalog_tomography\", HDFFile), # TO TEST\n",
    "        (\"fiducial_cosmology\", FiducialCosmology),\n",
    "        (\"cluster_shear_catalogs\", HDFFile),\n",
    "    ]\n",
    "\n",
    "    outputs = [\n",
    "        (\"cluster_profiles\",  PickleFile),\n",
    "    ]\n",
    "\n",
    "    config_options = {\n",
    "        #radial bin definition\n",
    "        \"r_min\" : 0.2, #in Mpc\n",
    "        \"r_max\" : 3.0, #in Mpc\n",
    "        \"nbins\" : 5, # number of bins\n",
    "        #type of profile\n",
    "        \"delta_sigma_profile\" : True,\n",
    "        \"shear_profile\" : False,\n",
    "        \"magnification_profile\" : False,\n",
    "        #coordinate_system for shear\n",
    "        #\"coordinate_system\" : 'euclidean' #Must be either 'celestial' or 'euclidean'\n",
    "    }\n",
    "\n",
    "    def run(self):\n",
    "        import sklearn.neighbors\n",
    "        import astropy\n",
    "        import h5py\n",
    "        import clmm\n",
    "        import clmm.cosmology.ccl\n",
    "```\n",
    "\n",
    "From this definition we can observe:\n",
    "\n",
    "- **Inputs**: three explicit inputs (`cluster_catalog_tomography`, `fiducial_cosmology`, `cluster_shear_catalogs`) plus others inherited from the parent class.  \n",
    "- **Output**: one file, `cluster_profiles`, written as a pickle.  \n",
    "- **Configuration options**: defaults for binning, profile type, etc. These can later be overridden in the stage configuration file.  \n",
    "- **Run function**: the core computation, with imports defined *inside* the function so they are only loaded when needed.\n",
    "\n",
    "---\n",
    "\n",
    "Looking a bit deeper, inside the `run` method we see:\n",
    "\n",
    "```\n",
    "        with self.open_input(\"fiducial_cosmology\", wrapper=True) as f:\n",
    "            ccl_cosmo = f.to_ccl()\n",
    "            self.clmm_cosmo = clmm.cosmology.ccl.CCLCosmology()\n",
    "            self.clmm_cosmo.set_be_cosmo(ccl_cosmo)\n",
    "            \n",
    "        \n",
    "                 \n",
    "        # load cluster catalog as an astropy table\n",
    "        #clusters = self.load_cluster_catalog()\n",
    "        \n",
    "        if self.config[\"delta_sigma_profile\"]==True:\n",
    "```\n",
    "This highlights some important features:\n",
    "\n",
    "- Stages use **built-in methods** (inherited from Ceci’s `PipelineStage`) to open inputs, outputs, and configurations.  \n",
    "- For example, `self.open_input(\"fiducial_cosmology\", wrapper=True)` automatically loads the file and converts it into a usable object.  \n",
    "- Configurations are easily accessible through `self.config`. In this case, the choice of whether to compute a ΔΣ profile depends on the boolean flag `delta_sigma_profile`.\n",
    "\n"
   ]
  },
  {
   "cell_type": "markdown",
   "id": "1249ddad-456e-485a-bef7-1459a94284ee",
   "metadata": {},
   "source": [
    "## 7. Useful Stage Methods"
   ]
  },
  {
   "cell_type": "markdown",
   "id": "2bf245a9-e858-42a0-aea2-1decc6710a15",
   "metadata": {},
   "source": [
    "All stages inherit utility methods from Ceci’s `PipelineStage`.  For a full list of utility methods available to all stages, see the [Ceci `PipelineStage` class](https://github.com/LSSTDESC/ceci/blob/master/ceci/stage.py).  \n",
    "\n",
    "Some useful examples include:  \n",
    "\n",
    "- `stage.get_output(\"cluster_catalog_tomography\")` → get the path of a specific output.  \n",
    "- `stage.print_io()` → print all inputs and outputs for the stage.  \n",
    "- `stage.find_outputs(outdir)` → locate all generated outputs in a directory. \n"
   ]
  },
  {
   "cell_type": "code",
   "execution_count": 6,
   "id": "053a3891-b94e-475b-9e5f-d785ff4ab510",
   "metadata": {},
   "outputs": [
    {
     "name": "stdout",
     "output_type": "stream",
     "text": [
      "Inputs--------\n",
      "cluster_catalog      : cluster_catalog      :<class 'txpipe.data_types.base.HDFFile'> : /global/cfs/projectdirs/lsst/groups/CL/cl_pipeline_project/TXPipe_data/cosmodc2/20deg2/cluster_catalog.hdf5\n",
      "Outputs--------\n",
      "cluster_catalog_tomography : cluster_catalog_tomography :<class 'txpipe.data_types.base.HDFFile'> : /global/homes/e/edujb/CLPipeline/tutorials/txpipe_tutorial/example_output/cluster_catalog_tomography.hdf5\n"
     ]
    },
    {
     "data": {
      "text/plain": [
       "{'cluster_catalog_tomography': '/global/homes/e/edujb/CLPipeline/tutorials/txpipe_tutorial/example_output//global/homes/e/edujb/CLPipeline/tutorials/txpipe_tutorial/example_output/cluster_catalog_tomography.hdf5'}"
      ]
     },
     "execution_count": 6,
     "metadata": {},
     "output_type": "execute_result"
    }
   ],
   "source": [
    "shear_cat = stage.get_output(\"cluster_catalog_tomography\")   # Get a specific output\n",
    "stage.print_io()                                # Print input/output info\n",
    "stage.find_outputs(outdir)                      # Locate output files\n"
   ]
  },
  {
   "cell_type": "markdown",
   "id": "bfdfe488-9d47-46e8-b887-acc044d94208",
   "metadata": {},
   "source": [
    "## 8. Creating a Custom Stage: `WorkshopStage`\n",
    "Let’s build a toy stage that:\n",
    "1. Reads a pickle input file.\n",
    "2. Multiplies a value by a configurable number.\n",
    "3. Saves the result as another pickle.\n",
    "\n",
    "This helps us understand how to structure stages.\n"
   ]
  },
  {
   "cell_type": "code",
   "execution_count": 9,
   "id": "253f70b5-9f72-4f9d-8a73-1effb799c19d",
   "metadata": {},
   "outputs": [],
   "source": [
    "from txpipe import PipelineStage\n",
    "from txpipe.data_types import PickleFile\n",
    "import pickle as pkl\n",
    "import sys\n",
    "\n",
    "# Workaround for Jupyter: give __main__ a filename\n",
    "sys.modules['__main__'].__file__ = \"notebook_stage.py\"\n",
    "\n",
    "class WorkshopStage(PipelineStage):\n",
    "    name = \"simple_stage\"\n",
    "    allow_reload = True   # allow redefining in notebooks\n",
    "\n",
    "    inputs = [\n",
    "        (\"simple_file\", PickleFile),\n",
    "    ]\n",
    "\n",
    "    outputs = [\n",
    "        (\"processed_file\", PickleFile),\n",
    "    ]\n",
    "\n",
    "    config_options = {\n",
    "        \"print_statement\": False,\n",
    "        \"number\": 1.0,\n",
    "    }\n",
    "\n",
    "    def run(self):\n",
    "        infile = self.get_input(\"simple_file\")\n",
    "        with open(infile, \"rb\") as f:\n",
    "            data = pkl.load(f)\n",
    "\n",
    "        number = self.config[\"number\"]\n",
    "        data_out = {\"original\": data, \"scaled_by\": number}\n",
    "\n",
    "        outfile = self.get_output(\"processed_file\")\n",
    "        with open(outfile, \"wb\") as f:    \n",
    "            pkl.dump(data_out, f)\n",
    "\n",
    "        if self.config[\"print_statement\"]:\n",
    "            print(f\"Wrote processed file to {outfile}\")\n"
   ]
  },
  {
   "cell_type": "code",
   "execution_count": 10,
   "id": "ab56e8dc-1653-483f-904a-54a710f3117c",
   "metadata": {},
   "outputs": [
    {
     "name": "stdout",
     "output_type": "stream",
     "text": [
      "Wrote processed file to /global/homes/e/edujb/CLPipeline/tutorials/txpipe_tutorial/example_output/inprogress_processed_file.pkl\n",
      "{'original': {'galaxy_count': 42, 'positions': [(1.2, 3.4), (2.1, 4.3), (3.2, 1.5)], 'metadata': {'survey': 'demo', 'version': 1.0}}, 'scaled_by': 2.0}\n"
     ]
    }
   ],
   "source": [
    "# Run the stage\n",
    "stage_workshop = WorkshopStage.make_stage(\n",
    "    processed_file=f\"{outdir}/processed_file.pkl\",\n",
    "    simple_file=\"simple_file.pkl\",\n",
    "    number=2.0,\n",
    "    print_statement=True,\n",
    ")\n",
    "\n",
    "stage_workshop.run()\n",
    "## We have to run finalize to close all outputs and check if they were generated\n",
    "stage_workshop.finalize()\n",
    "\n",
    "# Inspect the result\n",
    "with open(f\"{outdir}/processed_file.pkl\", \"rb\") as f:\n",
    "    print(pkl.load(f))\n"
   ]
  },
  {
   "cell_type": "markdown",
   "id": "b18ed6bf-0526-4b91-b13b-c0a3b1ae5b6e",
   "metadata": {},
   "source": [
    "We have seen:\n",
    "- How TXPipe organizes work into stages.\n",
    "- How pipeline and stage configuration files connect everything.\n",
    "- How to run pipelines (full or partial).\n",
    "- How to explore an existing stage (`CLClusterEnsembleProfiles`).\n",
    "- How to build and run a custom stage (`WorkshopStage`).\n",
    "\n",
    "Next steps:\n",
    "- Try editing config YAMLs to see how stages change behavior.\n",
    "- Explore other stages in the [TXPipe repo](https://github.com/LSSTDESC/TXPipe).\n",
    "- Experiment with more complex inputs/outputs in your own `PipelineStage`.\n"
   ]
  },
  {
   "cell_type": "code",
   "execution_count": null,
   "id": "3cb421c8-64cd-4648-a199-2b42478e35b5",
   "metadata": {},
   "outputs": [],
   "source": []
  }
 ],
 "metadata": {
  "kernelspec": {
   "display_name": "Txpipe_clp",
   "language": "python",
   "name": "txpipe_clp"
  },
  "language_info": {
   "codemirror_mode": {
    "name": "ipython",
    "version": 3
   },
   "file_extension": ".py",
   "mimetype": "text/x-python",
   "name": "python",
   "nbconvert_exporter": "python",
   "pygments_lexer": "ipython3",
   "version": "3.10.18"
  }
 },
 "nbformat": 4,
 "nbformat_minor": 5
}
