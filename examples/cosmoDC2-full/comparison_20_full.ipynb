{
 "cells": [
  {
   "cell_type": "code",
   "execution_count": 1,
   "metadata": {},
   "outputs": [],
   "source": [
    "import sacc"
   ]
  },
  {
   "cell_type": "code",
   "execution_count": 2,
   "metadata": {},
   "outputs": [],
   "source": [
    "cluster_20deg = sacc.Sacc.load_fits(\"/sps/lsst/groups/clusters/cl_pipeline_project/TXPipe_data/cosmodc2/outputs-20deg2-CL/cluster_sacc_catalog.sacc\") \n",
    "cluster_full = sacc.Sacc.load_fits(\"/sps/lsst/groups/clusters/cl_pipeline_project/TXPipe_data/cosmodc2/outputs-full/cluster_sacc_catalog.sacc\") "
   ]
  },
  {
   "cell_type": "code",
   "execution_count": 17,
   "metadata": {
    "scrolled": true
   },
   "outputs": [
    {
     "data": {
      "text/plain": [
       "[DataPoint(data_type='cluster_counts', tracers=('cosmodc2-20deg2-CL', 'bin_rich_0', 'bin_z_0'), value=147, ),\n",
       " DataPoint(data_type='cluster_counts', tracers=('cosmodc2-20deg2-CL', 'bin_rich_0', 'bin_z_1'), value=376, ),\n",
       " DataPoint(data_type='cluster_counts', tracers=('cosmodc2-20deg2-CL', 'bin_rich_0', 'bin_z_2'), value=293, ),\n",
       " DataPoint(data_type='cluster_counts', tracers=('cosmodc2-20deg2-CL', 'bin_rich_1', 'bin_z_0'), value=37, ),\n",
       " DataPoint(data_type='cluster_counts', tracers=('cosmodc2-20deg2-CL', 'bin_rich_1', 'bin_z_1'), value=120, ),\n",
       " DataPoint(data_type='cluster_counts', tracers=('cosmodc2-20deg2-CL', 'bin_rich_1', 'bin_z_2'), value=83, ),\n",
       " DataPoint(data_type='cluster_counts', tracers=('cosmodc2-20deg2-CL', 'bin_rich_2', 'bin_z_0'), value=5, ),\n",
       " DataPoint(data_type='cluster_counts', tracers=('cosmodc2-20deg2-CL', 'bin_rich_2', 'bin_z_1'), value=14, ),\n",
       " DataPoint(data_type='cluster_counts', tracers=('cosmodc2-20deg2-CL', 'bin_rich_2', 'bin_z_2'), value=8, ),\n",
       " DataPoint(data_type='cluster_counts', tracers=('cosmodc2-20deg2-CL', 'bin_rich_3', 'bin_z_0'), value=7, ),\n",
       " DataPoint(data_type='cluster_counts', tracers=('cosmodc2-20deg2-CL', 'bin_rich_3', 'bin_z_1'), value=25, ),\n",
       " DataPoint(data_type='cluster_counts', tracers=('cosmodc2-20deg2-CL', 'bin_rich_3', 'bin_z_2'), value=15, ),\n",
       " DataPoint(data_type='cluster_shear', tracers=('cosmodc2-20deg2-CL', 'bin_rich_0', 'bin_z_0', 'radius_0'), value=12400521446141.23, ),\n",
       " DataPoint(data_type='cluster_shear', tracers=('cosmodc2-20deg2-CL', 'bin_rich_0', 'bin_z_0', 'radius_1'), value=16915059093423.467, ),\n",
       " DataPoint(data_type='cluster_shear', tracers=('cosmodc2-20deg2-CL', 'bin_rich_0', 'bin_z_0', 'radius_2'), value=21652057421794.184, ),\n",
       " DataPoint(data_type='cluster_shear', tracers=('cosmodc2-20deg2-CL', 'bin_rich_0', 'bin_z_0', 'radius_3'), value=20238374873303.984, ),\n",
       " DataPoint(data_type='cluster_shear', tracers=('cosmodc2-20deg2-CL', 'bin_rich_0', 'bin_z_0', 'radius_4'), value=14468193700883.47, ),\n",
       " DataPoint(data_type='cluster_shear', tracers=('cosmodc2-20deg2-CL', 'bin_rich_0', 'bin_z_0', 'radius_5'), value=10497237867437.217, ),\n",
       " DataPoint(data_type='cluster_shear', tracers=('cosmodc2-20deg2-CL', 'bin_rich_0', 'bin_z_0', 'radius_6'), value=6238352514909.714, ),\n",
       " DataPoint(data_type='cluster_shear', tracers=('cosmodc2-20deg2-CL', 'bin_rich_0', 'bin_z_0', 'radius_7'), value=3496444394367.1255, ),\n",
       " DataPoint(data_type='cluster_shear', tracers=('cosmodc2-20deg2-CL', 'bin_rich_0', 'bin_z_0', 'radius_8'), value=1976923994656.8828, ),\n",
       " DataPoint(data_type='cluster_shear', tracers=('cosmodc2-20deg2-CL', 'bin_rich_0', 'bin_z_0', 'radius_9'), value=1690632160135.5344, ),\n",
       " DataPoint(data_type='cluster_shear', tracers=('cosmodc2-20deg2-CL', 'bin_rich_0', 'bin_z_1', 'radius_0'), value=3607090905493.7407, ),\n",
       " DataPoint(data_type='cluster_shear', tracers=('cosmodc2-20deg2-CL', 'bin_rich_0', 'bin_z_1', 'radius_1'), value=6198403857604.432, ),\n",
       " DataPoint(data_type='cluster_shear', tracers=('cosmodc2-20deg2-CL', 'bin_rich_0', 'bin_z_1', 'radius_2'), value=7936890016634.272, ),\n",
       " DataPoint(data_type='cluster_shear', tracers=('cosmodc2-20deg2-CL', 'bin_rich_0', 'bin_z_1', 'radius_3'), value=11597148094630.865, ),\n",
       " DataPoint(data_type='cluster_shear', tracers=('cosmodc2-20deg2-CL', 'bin_rich_0', 'bin_z_1', 'radius_4'), value=11531396934554.723, ),\n",
       " DataPoint(data_type='cluster_shear', tracers=('cosmodc2-20deg2-CL', 'bin_rich_0', 'bin_z_1', 'radius_5'), value=7491462607744.216, ),\n",
       " DataPoint(data_type='cluster_shear', tracers=('cosmodc2-20deg2-CL', 'bin_rich_0', 'bin_z_1', 'radius_6'), value=5456958743732.87, ),\n",
       " DataPoint(data_type='cluster_shear', tracers=('cosmodc2-20deg2-CL', 'bin_rich_0', 'bin_z_1', 'radius_7'), value=3362245401263.079, ),\n",
       " DataPoint(data_type='cluster_shear', tracers=('cosmodc2-20deg2-CL', 'bin_rich_0', 'bin_z_1', 'radius_8'), value=1079352855525.03, ),\n",
       " DataPoint(data_type='cluster_shear', tracers=('cosmodc2-20deg2-CL', 'bin_rich_0', 'bin_z_1', 'radius_9'), value=921728342702.072, ),\n",
       " DataPoint(data_type='cluster_shear', tracers=('cosmodc2-20deg2-CL', 'bin_rich_0', 'bin_z_2', 'radius_0'), value=380186885226.5008, ),\n",
       " DataPoint(data_type='cluster_shear', tracers=('cosmodc2-20deg2-CL', 'bin_rich_0', 'bin_z_2', 'radius_1'), value=6064301061480.295, ),\n",
       " DataPoint(data_type='cluster_shear', tracers=('cosmodc2-20deg2-CL', 'bin_rich_0', 'bin_z_2', 'radius_2'), value=7900394675812.795, ),\n",
       " DataPoint(data_type='cluster_shear', tracers=('cosmodc2-20deg2-CL', 'bin_rich_0', 'bin_z_2', 'radius_3'), value=11069295231694.213, ),\n",
       " DataPoint(data_type='cluster_shear', tracers=('cosmodc2-20deg2-CL', 'bin_rich_0', 'bin_z_2', 'radius_4'), value=12956045751640.402, ),\n",
       " DataPoint(data_type='cluster_shear', tracers=('cosmodc2-20deg2-CL', 'bin_rich_0', 'bin_z_2', 'radius_5'), value=10335029612207.527, ),\n",
       " DataPoint(data_type='cluster_shear', tracers=('cosmodc2-20deg2-CL', 'bin_rich_0', 'bin_z_2', 'radius_6'), value=5778020838113.233, ),\n",
       " DataPoint(data_type='cluster_shear', tracers=('cosmodc2-20deg2-CL', 'bin_rich_0', 'bin_z_2', 'radius_7'), value=5359726558821.837, ),\n",
       " DataPoint(data_type='cluster_shear', tracers=('cosmodc2-20deg2-CL', 'bin_rich_0', 'bin_z_2', 'radius_8'), value=2838819996413.7837, ),\n",
       " DataPoint(data_type='cluster_shear', tracers=('cosmodc2-20deg2-CL', 'bin_rich_0', 'bin_z_2', 'radius_9'), value=1410599288719.0654, ),\n",
       " DataPoint(data_type='cluster_shear', tracers=('cosmodc2-20deg2-CL', 'bin_rich_1', 'bin_z_0', 'radius_0'), value=19563060323666.695, ),\n",
       " DataPoint(data_type='cluster_shear', tracers=('cosmodc2-20deg2-CL', 'bin_rich_1', 'bin_z_0', 'radius_1'), value=30132213180181.902, ),\n",
       " DataPoint(data_type='cluster_shear', tracers=('cosmodc2-20deg2-CL', 'bin_rich_1', 'bin_z_0', 'radius_2'), value=36453956614027.805, ),\n",
       " DataPoint(data_type='cluster_shear', tracers=('cosmodc2-20deg2-CL', 'bin_rich_1', 'bin_z_0', 'radius_3'), value=35473471252251.41, ),\n",
       " DataPoint(data_type='cluster_shear', tracers=('cosmodc2-20deg2-CL', 'bin_rich_1', 'bin_z_0', 'radius_4'), value=27928576292223.41, ),\n",
       " DataPoint(data_type='cluster_shear', tracers=('cosmodc2-20deg2-CL', 'bin_rich_1', 'bin_z_0', 'radius_5'), value=23477093667039.242, ),\n",
       " DataPoint(data_type='cluster_shear', tracers=('cosmodc2-20deg2-CL', 'bin_rich_1', 'bin_z_0', 'radius_6'), value=15791944790498.072, ),\n",
       " DataPoint(data_type='cluster_shear', tracers=('cosmodc2-20deg2-CL', 'bin_rich_1', 'bin_z_0', 'radius_7'), value=8762004580059.568, ),\n",
       " DataPoint(data_type='cluster_shear', tracers=('cosmodc2-20deg2-CL', 'bin_rich_1', 'bin_z_0', 'radius_8'), value=5264766087221.318, ),\n",
       " DataPoint(data_type='cluster_shear', tracers=('cosmodc2-20deg2-CL', 'bin_rich_1', 'bin_z_0', 'radius_9'), value=3565890867631.7856, ),\n",
       " DataPoint(data_type='cluster_shear', tracers=('cosmodc2-20deg2-CL', 'bin_rich_1', 'bin_z_1', 'radius_0'), value=6046634988030.159, ),\n",
       " DataPoint(data_type='cluster_shear', tracers=('cosmodc2-20deg2-CL', 'bin_rich_1', 'bin_z_1', 'radius_1'), value=10727868689627.775, ),\n",
       " DataPoint(data_type='cluster_shear', tracers=('cosmodc2-20deg2-CL', 'bin_rich_1', 'bin_z_1', 'radius_2'), value=15448549197520.53, ),\n",
       " DataPoint(data_type='cluster_shear', tracers=('cosmodc2-20deg2-CL', 'bin_rich_1', 'bin_z_1', 'radius_3'), value=22156432415246.88, ),\n",
       " DataPoint(data_type='cluster_shear', tracers=('cosmodc2-20deg2-CL', 'bin_rich_1', 'bin_z_1', 'radius_4'), value=21626002345419.562, ),\n",
       " DataPoint(data_type='cluster_shear', tracers=('cosmodc2-20deg2-CL', 'bin_rich_1', 'bin_z_1', 'radius_5'), value=15284161894565.375, ),\n",
       " DataPoint(data_type='cluster_shear', tracers=('cosmodc2-20deg2-CL', 'bin_rich_1', 'bin_z_1', 'radius_6'), value=10908664276600.814, ),\n",
       " DataPoint(data_type='cluster_shear', tracers=('cosmodc2-20deg2-CL', 'bin_rich_1', 'bin_z_1', 'radius_7'), value=7064368442403.883, ),\n",
       " DataPoint(data_type='cluster_shear', tracers=('cosmodc2-20deg2-CL', 'bin_rich_1', 'bin_z_1', 'radius_8'), value=5061363193993.804, ),\n",
       " DataPoint(data_type='cluster_shear', tracers=('cosmodc2-20deg2-CL', 'bin_rich_1', 'bin_z_1', 'radius_9'), value=2903611712095.474, ),\n",
       " DataPoint(data_type='cluster_shear', tracers=('cosmodc2-20deg2-CL', 'bin_rich_1', 'bin_z_2', 'radius_0'), value=2857334246142.1865, ),\n",
       " DataPoint(data_type='cluster_shear', tracers=('cosmodc2-20deg2-CL', 'bin_rich_1', 'bin_z_2', 'radius_1'), value=7190151125062.385, ),\n",
       " DataPoint(data_type='cluster_shear', tracers=('cosmodc2-20deg2-CL', 'bin_rich_1', 'bin_z_2', 'radius_2'), value=11964298710889.96, ),\n",
       " DataPoint(data_type='cluster_shear', tracers=('cosmodc2-20deg2-CL', 'bin_rich_1', 'bin_z_2', 'radius_3'), value=17521030274565.293, ),\n",
       " DataPoint(data_type='cluster_shear', tracers=('cosmodc2-20deg2-CL', 'bin_rich_1', 'bin_z_2', 'radius_4'), value=19974452557058.215, ),\n",
       " DataPoint(data_type='cluster_shear', tracers=('cosmodc2-20deg2-CL', 'bin_rich_1', 'bin_z_2', 'radius_5'), value=15819703690235.602, ),\n",
       " DataPoint(data_type='cluster_shear', tracers=('cosmodc2-20deg2-CL', 'bin_rich_1', 'bin_z_2', 'radius_6'), value=8552660176984.243, ),\n",
       " DataPoint(data_type='cluster_shear', tracers=('cosmodc2-20deg2-CL', 'bin_rich_1', 'bin_z_2', 'radius_7'), value=4195038887624.52, ),\n",
       " DataPoint(data_type='cluster_shear', tracers=('cosmodc2-20deg2-CL', 'bin_rich_1', 'bin_z_2', 'radius_8'), value=2642765932682.083, ),\n",
       " DataPoint(data_type='cluster_shear', tracers=('cosmodc2-20deg2-CL', 'bin_rich_1', 'bin_z_2', 'radius_9'), value=1564912346401.2993, ),\n",
       " DataPoint(data_type='cluster_shear', tracers=('cosmodc2-20deg2-CL', 'bin_rich_2', 'bin_z_0', 'radius_0'), value=34396703702941.125, ),\n",
       " DataPoint(data_type='cluster_shear', tracers=('cosmodc2-20deg2-CL', 'bin_rich_2', 'bin_z_0', 'radius_1'), value=55319538436202.625, ),\n",
       " DataPoint(data_type='cluster_shear', tracers=('cosmodc2-20deg2-CL', 'bin_rich_2', 'bin_z_0', 'radius_2'), value=70713106684507.28, ),\n",
       " DataPoint(data_type='cluster_shear', tracers=('cosmodc2-20deg2-CL', 'bin_rich_2', 'bin_z_0', 'radius_3'), value=63956879417112.734, ),\n",
       " DataPoint(data_type='cluster_shear', tracers=('cosmodc2-20deg2-CL', 'bin_rich_2', 'bin_z_0', 'radius_4'), value=46275377543013.016, ),\n",
       " DataPoint(data_type='cluster_shear', tracers=('cosmodc2-20deg2-CL', 'bin_rich_2', 'bin_z_0', 'radius_5'), value=38412816468648.984, ),\n",
       " DataPoint(data_type='cluster_shear', tracers=('cosmodc2-20deg2-CL', 'bin_rich_2', 'bin_z_0', 'radius_6'), value=16129282606988.928, ),\n",
       " DataPoint(data_type='cluster_shear', tracers=('cosmodc2-20deg2-CL', 'bin_rich_2', 'bin_z_0', 'radius_7'), value=5790972717497.98, ),\n",
       " DataPoint(data_type='cluster_shear', tracers=('cosmodc2-20deg2-CL', 'bin_rich_2', 'bin_z_0', 'radius_8'), value=4077458845969.326, ),\n",
       " DataPoint(data_type='cluster_shear', tracers=('cosmodc2-20deg2-CL', 'bin_rich_2', 'bin_z_0', 'radius_9'), value=976325336583.2102, ),\n",
       " DataPoint(data_type='cluster_shear', tracers=('cosmodc2-20deg2-CL', 'bin_rich_2', 'bin_z_1', 'radius_0'), value=7063783709448.355, ),\n",
       " DataPoint(data_type='cluster_shear', tracers=('cosmodc2-20deg2-CL', 'bin_rich_2', 'bin_z_1', 'radius_1'), value=7743555239185.084, ),\n",
       " DataPoint(data_type='cluster_shear', tracers=('cosmodc2-20deg2-CL', 'bin_rich_2', 'bin_z_1', 'radius_2'), value=21946948003905.426, ),\n",
       " DataPoint(data_type='cluster_shear', tracers=('cosmodc2-20deg2-CL', 'bin_rich_2', 'bin_z_1', 'radius_3'), value=30634200866008.06, ),\n",
       " DataPoint(data_type='cluster_shear', tracers=('cosmodc2-20deg2-CL', 'bin_rich_2', 'bin_z_1', 'radius_4'), value=30012469234454.504, ),\n",
       " DataPoint(data_type='cluster_shear', tracers=('cosmodc2-20deg2-CL', 'bin_rich_2', 'bin_z_1', 'radius_5'), value=23239586570372.88, ),\n",
       " DataPoint(data_type='cluster_shear', tracers=('cosmodc2-20deg2-CL', 'bin_rich_2', 'bin_z_1', 'radius_6'), value=21476907571641.99, ),\n",
       " DataPoint(data_type='cluster_shear', tracers=('cosmodc2-20deg2-CL', 'bin_rich_2', 'bin_z_1', 'radius_7'), value=16101837502724.379, ),\n",
       " DataPoint(data_type='cluster_shear', tracers=('cosmodc2-20deg2-CL', 'bin_rich_2', 'bin_z_1', 'radius_8'), value=3777208887584.4883, ),\n",
       " DataPoint(data_type='cluster_shear', tracers=('cosmodc2-20deg2-CL', 'bin_rich_2', 'bin_z_1', 'radius_9'), value=5828068095388.428, ),\n",
       " DataPoint(data_type='cluster_shear', tracers=('cosmodc2-20deg2-CL', 'bin_rich_2', 'bin_z_2', 'radius_0'), value=7677678190102.795, ),\n",
       " DataPoint(data_type='cluster_shear', tracers=('cosmodc2-20deg2-CL', 'bin_rich_2', 'bin_z_2', 'radius_1'), value=8847276205098.21, ),\n",
       " DataPoint(data_type='cluster_shear', tracers=('cosmodc2-20deg2-CL', 'bin_rich_2', 'bin_z_2', 'radius_2'), value=8282796557066.694, ),\n",
       " DataPoint(data_type='cluster_shear', tracers=('cosmodc2-20deg2-CL', 'bin_rich_2', 'bin_z_2', 'radius_3'), value=16350043588461.854, ),\n",
       " DataPoint(data_type='cluster_shear', tracers=('cosmodc2-20deg2-CL', 'bin_rich_2', 'bin_z_2', 'radius_4'), value=20175447231390.258, ),\n",
       " DataPoint(data_type='cluster_shear', tracers=('cosmodc2-20deg2-CL', 'bin_rich_2', 'bin_z_2', 'radius_5'), value=20696449398441.33, ),\n",
       " DataPoint(data_type='cluster_shear', tracers=('cosmodc2-20deg2-CL', 'bin_rich_2', 'bin_z_2', 'radius_6'), value=13386128786241.861, ),\n",
       " DataPoint(data_type='cluster_shear', tracers=('cosmodc2-20deg2-CL', 'bin_rich_2', 'bin_z_2', 'radius_7'), value=13484141358270.953, ),\n",
       " DataPoint(data_type='cluster_shear', tracers=('cosmodc2-20deg2-CL', 'bin_rich_2', 'bin_z_2', 'radius_8'), value=13474441182870.033, ),\n",
       " DataPoint(data_type='cluster_shear', tracers=('cosmodc2-20deg2-CL', 'bin_rich_2', 'bin_z_2', 'radius_9'), value=2432185294918.2456, ),\n",
       " DataPoint(data_type='cluster_shear', tracers=('cosmodc2-20deg2-CL', 'bin_rich_3', 'bin_z_0', 'radius_0'), value=16843498083390.143, ),\n",
       " DataPoint(data_type='cluster_shear', tracers=('cosmodc2-20deg2-CL', 'bin_rich_3', 'bin_z_0', 'radius_1'), value=26758133219115.113, ),\n",
       " DataPoint(data_type='cluster_shear', tracers=('cosmodc2-20deg2-CL', 'bin_rich_3', 'bin_z_0', 'radius_2'), value=36895030349575.92, ),\n",
       " DataPoint(data_type='cluster_shear', tracers=('cosmodc2-20deg2-CL', 'bin_rich_3', 'bin_z_0', 'radius_3'), value=35255729052497.984, ),\n",
       " DataPoint(data_type='cluster_shear', tracers=('cosmodc2-20deg2-CL', 'bin_rich_3', 'bin_z_0', 'radius_4'), value=26094281860345.707, ),\n",
       " DataPoint(data_type='cluster_shear', tracers=('cosmodc2-20deg2-CL', 'bin_rich_3', 'bin_z_0', 'radius_5'), value=22539019165988.25, ),\n",
       " DataPoint(data_type='cluster_shear', tracers=('cosmodc2-20deg2-CL', 'bin_rich_3', 'bin_z_0', 'radius_6'), value=18690944841578.223, ),\n",
       " DataPoint(data_type='cluster_shear', tracers=('cosmodc2-20deg2-CL', 'bin_rich_3', 'bin_z_0', 'radius_7'), value=10517302032270.816, ),\n",
       " DataPoint(data_type='cluster_shear', tracers=('cosmodc2-20deg2-CL', 'bin_rich_3', 'bin_z_0', 'radius_8'), value=5156234657535.056, ),\n",
       " DataPoint(data_type='cluster_shear', tracers=('cosmodc2-20deg2-CL', 'bin_rich_3', 'bin_z_0', 'radius_9'), value=-803962296940.3083, ),\n",
       " DataPoint(data_type='cluster_shear', tracers=('cosmodc2-20deg2-CL', 'bin_rich_3', 'bin_z_1', 'radius_0'), value=10899126492637.307, ),\n",
       " DataPoint(data_type='cluster_shear', tracers=('cosmodc2-20deg2-CL', 'bin_rich_3', 'bin_z_1', 'radius_1'), value=19378522223107.67, ),\n",
       " DataPoint(data_type='cluster_shear', tracers=('cosmodc2-20deg2-CL', 'bin_rich_3', 'bin_z_1', 'radius_2'), value=26132959370423.598, ),\n",
       " DataPoint(data_type='cluster_shear', tracers=('cosmodc2-20deg2-CL', 'bin_rich_3', 'bin_z_1', 'radius_3'), value=35521332144957.27, ),\n",
       " DataPoint(data_type='cluster_shear', tracers=('cosmodc2-20deg2-CL', 'bin_rich_3', 'bin_z_1', 'radius_4'), value=39134353501206.83, ),\n",
       " DataPoint(data_type='cluster_shear', tracers=('cosmodc2-20deg2-CL', 'bin_rich_3', 'bin_z_1', 'radius_5'), value=28046751778379.277, ),\n",
       " DataPoint(data_type='cluster_shear', tracers=('cosmodc2-20deg2-CL', 'bin_rich_3', 'bin_z_1', 'radius_6'), value=23074010144984.06, ),\n",
       " DataPoint(data_type='cluster_shear', tracers=('cosmodc2-20deg2-CL', 'bin_rich_3', 'bin_z_1', 'radius_7'), value=16625729205003.89, ),\n",
       " DataPoint(data_type='cluster_shear', tracers=('cosmodc2-20deg2-CL', 'bin_rich_3', 'bin_z_1', 'radius_8'), value=10682839856761.71, ),\n",
       " DataPoint(data_type='cluster_shear', tracers=('cosmodc2-20deg2-CL', 'bin_rich_3', 'bin_z_1', 'radius_9'), value=7416701446203.823, ),\n",
       " DataPoint(data_type='cluster_shear', tracers=('cosmodc2-20deg2-CL', 'bin_rich_3', 'bin_z_2', 'radius_0'), value=409451233558.83167, ),\n",
       " DataPoint(data_type='cluster_shear', tracers=('cosmodc2-20deg2-CL', 'bin_rich_3', 'bin_z_2', 'radius_1'), value=14965372069729.348, ),\n",
       " DataPoint(data_type='cluster_shear', tracers=('cosmodc2-20deg2-CL', 'bin_rich_3', 'bin_z_2', 'radius_2'), value=25403918495801.348, ),\n",
       " DataPoint(data_type='cluster_shear', tracers=('cosmodc2-20deg2-CL', 'bin_rich_3', 'bin_z_2', 'radius_3'), value=40042561251132.5, ),\n",
       " DataPoint(data_type='cluster_shear', tracers=('cosmodc2-20deg2-CL', 'bin_rich_3', 'bin_z_2', 'radius_4'), value=47609784779267.63, ),\n",
       " DataPoint(data_type='cluster_shear', tracers=('cosmodc2-20deg2-CL', 'bin_rich_3', 'bin_z_2', 'radius_5'), value=41261423487025.21, ),\n",
       " DataPoint(data_type='cluster_shear', tracers=('cosmodc2-20deg2-CL', 'bin_rich_3', 'bin_z_2', 'radius_6'), value=26328350189610.145, ),\n",
       " DataPoint(data_type='cluster_shear', tracers=('cosmodc2-20deg2-CL', 'bin_rich_3', 'bin_z_2', 'radius_7'), value=21625997581455.28, ),\n",
       " DataPoint(data_type='cluster_shear', tracers=('cosmodc2-20deg2-CL', 'bin_rich_3', 'bin_z_2', 'radius_8'), value=12417987987357.234, ),\n",
       " DataPoint(data_type='cluster_shear', tracers=('cosmodc2-20deg2-CL', 'bin_rich_3', 'bin_z_2', 'radius_9'), value=3601439315500.4976, )]"
      ]
     },
     "execution_count": 17,
     "metadata": {},
     "output_type": "execute_result"
    }
   ],
   "source": [
    " cluster_20deg.data"
   ]
  },
  {
   "cell_type": "code",
   "execution_count": 20,
   "metadata": {},
   "outputs": [
    {
     "name": "stdout",
     "output_type": "stream",
     "text": [
      "[4200, 7952, 7511, 1182, 2238, 2437, 198, 329, 349, 320, 502, 534]\n"
     ]
    },
    {
     "data": {
      "image/png": "[encoded data removed]",
      "text/plain": [
       "<Figure size 640x480 with 1 Axes>"
      ]
     },
     "metadata": {},
     "output_type": "display_data"
    }
   ],
   "source": [
    "import numpy as np\n",
    "import matplotlib.pyplot as plt\n",
    "cl_20 = [data.value for data in cluster_20deg.data if data.data_type == 'cluster_counts']\n",
    "cl_full = [data.value for data in cluster_full.data if data.data_type == 'cluster_counts']\n",
    "print(cl_full)\n",
    "plt.hist(cl_full / np.sum(cl_full), label = 'full')\n",
    "plt.hist(cl_20 / np.sum(cl_20), label = '20')\n",
    "plt.legend()\n",
    "plt.show()\n"
   ]
  },
  {
   "cell_type": "code",
   "execution_count": null,
   "metadata": {},
   "outputs": [],
   "source": []
  },
  {
   "cell_type": "code",
   "execution_count": null,
   "metadata": {},
   "outputs": [],
   "source": []
  },
  {
   "cell_type": "code",
   "execution_count": null,
   "metadata": {},
   "outputs": [],
   "source": []
  }
 ],
 "metadata": {
  "kernelspec": {
   "display_name": "Python 3 (ipykernel)",
   "language": "python",
   "name": "python3"
  },
  "language_info": {
   "codemirror_mode": {
    "name": "ipython",
    "version": 3
   },
   "file_extension": ".py",
   "mimetype": "text/x-python",
   "name": "python",
   "nbconvert_exporter": "python",
   "pygments_lexer": "ipython3",
   "version": "3.11.13"
  }
 },
 "nbformat": 4,
 "nbformat_minor": 4
}
