{
 "cells": [
  {
   "cell_type": "code",
   "execution_count": 1,
   "id": "7059b9e3-a6ec-43ec-b227-824f84a2e9cc",
   "metadata": {},
   "outputs": [],
   "source": [
    "import sacc\n",
    "import numpy as np"
   ]
  },
  {
   "cell_type": "code",
   "execution_count": 2,
   "id": "aff33966-0c20-476d-9b2c-846458eedc1f",
   "metadata": {},
   "outputs": [],
   "source": [
    "t = sacc.Sacc.load_fits(\"/pbs/home/e/ebarroso/CLPipeline/examples/wazp_cosmoDC2/outputs/clusters_sacc_file_cov.sacc\")"
   ]
  },
  {
   "cell_type": "code",
   "execution_count": 5,
   "id": "e190b15c-116a-4b4e-8c91-09e28f594629",
   "metadata": {},
   "outputs": [
    {
     "name": "stdout",
     "output_type": "stream",
     "text": [
      "{'name': 'bin_z_0', 'quantity': 'generic', 'metadata': {}, 'lower': 0.20012286, 'upper': 0.5299289}\n",
      "{'name': 'bin_z_1', 'quantity': 'generic', 'metadata': {}, 'lower': 0.5299289, 'upper': 0.85973495}\n",
      "{'name': 'bin_z_2', 'quantity': 'generic', 'metadata': {}, 'lower': 0.85973495, 'upper': 1.189541}\n",
      "{'name': 'bin_z_3', 'quantity': 'generic', 'metadata': {}, 'lower': 1.189541, 'upper': 1.5193471}\n",
      "{'name': 'rich_0', 'quantity': 'generic', 'metadata': {}, 'lower': 0.69897, 'upper': 1.0524015}\n",
      "{'name': 'rich_1', 'quantity': 'generic', 'metadata': {}, 'lower': 1.0524015, 'upper': 1.405833}\n",
      "{'name': 'rich_2', 'quantity': 'generic', 'metadata': {}, 'lower': 1.405833, 'upper': 1.7592645}\n",
      "{'name': 'rich_3', 'quantity': 'generic', 'metadata': {}, 'lower': 1.7592645, 'upper': 2.112696}\n",
      "{'name': 'rich_4', 'quantity': 'generic', 'metadata': {}, 'lower': 2.112696, 'upper': 2.4661274}\n",
      "{'name': 'cosmodc2_wazp', 'quantity': 'generic', 'metadata': {}, 'sky_area': 439.78986}\n"
     ]
    }
   ],
   "source": [
    "for tracer in t.tracers:\n",
    "    print(t.tracers[f'{tracer}'].__dict__)"
   ]
  },
  {
   "cell_type": "code",
   "execution_count": null,
   "id": "f6b20dd3-4fec-4e7a-9cce-266548bdca54",
   "metadata": {},
   "outputs": [],
   "source": []
  }
 ],
 "metadata": {
  "kernelspec": {
   "display_name": "Python (firecrown2.0)",
   "language": "python",
   "name": "firecrown"
  },
  "language_info": {
   "codemirror_mode": {
    "name": "ipython",
    "version": 3
   },
   "file_extension": ".py",
   "mimetype": "text/x-python",
   "name": "python",
   "nbconvert_exporter": "python",
   "pygments_lexer": "ipython3",
   "version": "3.12.8"
  }
 },
 "nbformat": 4,
 "nbformat_minor": 5
}
